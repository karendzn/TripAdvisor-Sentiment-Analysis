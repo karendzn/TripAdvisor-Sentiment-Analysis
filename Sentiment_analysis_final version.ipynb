{
 "cells": [
  {
   "cell_type": "markdown",
   "id": "85852725",
   "metadata": {},
   "source": [
    "# Sentiment Analysis of TripAdvisor Hotel reviews"
   ]
  },
  {
   "cell_type": "markdown",
   "id": "cd299af6",
   "metadata": {},
   "source": [
    "### Import and install required packages"
   ]
  },
  {
   "cell_type": "code",
   "execution_count": 1,
   "id": "9381fd1e",
   "metadata": {},
   "outputs": [],
   "source": [
    "import numpy as np \n",
    "import pandas as pd\n",
    "import matplotlib.pyplot as plt\n",
    "import seaborn as sns\n",
    "import plotly.express as px"
   ]
  },
  {
   "cell_type": "code",
   "execution_count": 2,
   "id": "bb71fc79",
   "metadata": {},
   "outputs": [
    {
     "name": "stdout",
     "output_type": "stream",
     "text": [
      "Requirement already satisfied: textblob in c:\\users\\islam\\anaconda3\\lib\\site-packages (0.18.0.post0)\n",
      "Requirement already satisfied: nltk>=3.8 in c:\\users\\islam\\anaconda3\\lib\\site-packages (from textblob) (3.8.1)\n",
      "Requirement already satisfied: click in c:\\users\\islam\\anaconda3\\lib\\site-packages (from nltk>=3.8->textblob) (8.0.4)\n",
      "Requirement already satisfied: joblib in c:\\users\\islam\\anaconda3\\lib\\site-packages (from nltk>=3.8->textblob) (1.2.0)\n",
      "Requirement already satisfied: regex>=2021.8.3 in c:\\users\\islam\\anaconda3\\lib\\site-packages (from nltk>=3.8->textblob) (2022.7.9)\n",
      "Requirement already satisfied: tqdm in c:\\users\\islam\\anaconda3\\lib\\site-packages (from nltk>=3.8->textblob) (4.65.0)\n",
      "Requirement already satisfied: colorama in c:\\users\\islam\\anaconda3\\lib\\site-packages (from click->nltk>=3.8->textblob) (0.4.6)\n"
     ]
    }
   ],
   "source": [
    "! pip install textblob"
   ]
  },
  {
   "cell_type": "code",
   "execution_count": 4,
   "id": "40499909",
   "metadata": {},
   "outputs": [
    {
     "name": "stdout",
     "output_type": "stream",
     "text": [
      "Requirement already satisfied: wordcloud in c:\\users\\islam\\anaconda3\\lib\\site-packages (1.9.3)\n",
      "Requirement already satisfied: numpy>=1.6.1 in c:\\users\\islam\\anaconda3\\lib\\site-packages (from wordcloud) (1.24.3)\n",
      "Requirement already satisfied: pillow in c:\\users\\islam\\anaconda3\\lib\\site-packages (from wordcloud) (9.4.0)\n",
      "Requirement already satisfied: matplotlib in c:\\users\\islam\\anaconda3\\lib\\site-packages (from wordcloud) (3.7.2)\n",
      "Requirement already satisfied: contourpy>=1.0.1 in c:\\users\\islam\\anaconda3\\lib\\site-packages (from matplotlib->wordcloud) (1.0.5)\n",
      "Requirement already satisfied: cycler>=0.10 in c:\\users\\islam\\anaconda3\\lib\\site-packages (from matplotlib->wordcloud) (0.11.0)\n",
      "Requirement already satisfied: fonttools>=4.22.0 in c:\\users\\islam\\anaconda3\\lib\\site-packages (from matplotlib->wordcloud) (4.25.0)\n",
      "Requirement already satisfied: kiwisolver>=1.0.1 in c:\\users\\islam\\anaconda3\\lib\\site-packages (from matplotlib->wordcloud) (1.4.4)\n",
      "Requirement already satisfied: packaging>=20.0 in c:\\users\\islam\\anaconda3\\lib\\site-packages (from matplotlib->wordcloud) (23.1)\n",
      "Requirement already satisfied: pyparsing<3.1,>=2.3.1 in c:\\users\\islam\\anaconda3\\lib\\site-packages (from matplotlib->wordcloud) (3.0.9)\n",
      "Requirement already satisfied: python-dateutil>=2.7 in c:\\users\\islam\\anaconda3\\lib\\site-packages (from matplotlib->wordcloud) (2.8.2)\n",
      "Requirement already satisfied: six>=1.5 in c:\\users\\islam\\anaconda3\\lib\\site-packages (from python-dateutil>=2.7->matplotlib->wordcloud) (1.16.0)\n"
     ]
    }
   ],
   "source": [
    "! pip install wordcloud"
   ]
  },
  {
   "cell_type": "code",
   "execution_count": 5,
   "id": "7b8e1cb8",
   "metadata": {},
   "outputs": [],
   "source": [
    "from textblob import TextBlob as TB\n",
    "import matplotlib.pyplot as plt\n",
    "from wordcloud import WordCloud\n",
    "from wordcloud import ImageColorGenerator\n",
    "from wordcloud import STOPWORDS\n",
    "import warnings\n",
    "warnings.filterwarnings('ignore') "
   ]
  },
  {
   "cell_type": "markdown",
   "id": "5ef7aed4",
   "metadata": {},
   "source": [
    "### Exploration"
   ]
  },
  {
   "cell_type": "code",
   "execution_count": 6,
   "id": "e0b8d35e",
   "metadata": {},
   "outputs": [],
   "source": [
    "df = pd.read_csv(\"./tripadvisor_hotel_reviews.csv\")"
   ]
  },
  {
   "cell_type": "code",
   "execution_count": 7,
   "id": "48d2c13f",
   "metadata": {},
   "outputs": [
    {
     "data": {
      "text/html": [
       "<div>\n",
       "<style scoped>\n",
       "    .dataframe tbody tr th:only-of-type {\n",
       "        vertical-align: middle;\n",
       "    }\n",
       "\n",
       "    .dataframe tbody tr th {\n",
       "        vertical-align: top;\n",
       "    }\n",
       "\n",
       "    .dataframe thead th {\n",
       "        text-align: right;\n",
       "    }\n",
       "</style>\n",
       "<table border=\"1\" class=\"dataframe\">\n",
       "  <thead>\n",
       "    <tr style=\"text-align: right;\">\n",
       "      <th></th>\n",
       "      <th>Review</th>\n",
       "      <th>Rating</th>\n",
       "    </tr>\n",
       "  </thead>\n",
       "  <tbody>\n",
       "    <tr>\n",
       "      <th>0</th>\n",
       "      <td>nice hotel expensive parking got good deal sta...</td>\n",
       "      <td>4</td>\n",
       "    </tr>\n",
       "    <tr>\n",
       "      <th>1</th>\n",
       "      <td>ok nothing special charge diamond member hilto...</td>\n",
       "      <td>2</td>\n",
       "    </tr>\n",
       "    <tr>\n",
       "      <th>2</th>\n",
       "      <td>nice rooms not 4* experience hotel monaco seat...</td>\n",
       "      <td>3</td>\n",
       "    </tr>\n",
       "    <tr>\n",
       "      <th>3</th>\n",
       "      <td>unique, great stay, wonderful time hotel monac...</td>\n",
       "      <td>5</td>\n",
       "    </tr>\n",
       "    <tr>\n",
       "      <th>4</th>\n",
       "      <td>great stay great stay, went seahawk game aweso...</td>\n",
       "      <td>5</td>\n",
       "    </tr>\n",
       "    <tr>\n",
       "      <th>...</th>\n",
       "      <td>...</td>\n",
       "      <td>...</td>\n",
       "    </tr>\n",
       "    <tr>\n",
       "      <th>20486</th>\n",
       "      <td>best kept secret 3rd time staying charm, not 5...</td>\n",
       "      <td>5</td>\n",
       "    </tr>\n",
       "    <tr>\n",
       "      <th>20487</th>\n",
       "      <td>great location price view hotel great quick pl...</td>\n",
       "      <td>4</td>\n",
       "    </tr>\n",
       "    <tr>\n",
       "      <th>20488</th>\n",
       "      <td>ok just looks nice modern outside, desk staff ...</td>\n",
       "      <td>2</td>\n",
       "    </tr>\n",
       "    <tr>\n",
       "      <th>20489</th>\n",
       "      <td>hotel theft ruined vacation hotel opened sept ...</td>\n",
       "      <td>1</td>\n",
       "    </tr>\n",
       "    <tr>\n",
       "      <th>20490</th>\n",
       "      <td>people talking, ca n't believe excellent ratin...</td>\n",
       "      <td>2</td>\n",
       "    </tr>\n",
       "  </tbody>\n",
       "</table>\n",
       "<p>20491 rows × 2 columns</p>\n",
       "</div>"
      ],
      "text/plain": [
       "                                                  Review  Rating\n",
       "0      nice hotel expensive parking got good deal sta...       4\n",
       "1      ok nothing special charge diamond member hilto...       2\n",
       "2      nice rooms not 4* experience hotel monaco seat...       3\n",
       "3      unique, great stay, wonderful time hotel monac...       5\n",
       "4      great stay great stay, went seahawk game aweso...       5\n",
       "...                                                  ...     ...\n",
       "20486  best kept secret 3rd time staying charm, not 5...       5\n",
       "20487  great location price view hotel great quick pl...       4\n",
       "20488  ok just looks nice modern outside, desk staff ...       2\n",
       "20489  hotel theft ruined vacation hotel opened sept ...       1\n",
       "20490  people talking, ca n't believe excellent ratin...       2\n",
       "\n",
       "[20491 rows x 2 columns]"
      ]
     },
     "execution_count": 7,
     "metadata": {},
     "output_type": "execute_result"
    }
   ],
   "source": [
    "df"
   ]
  },
  {
   "cell_type": "code",
   "execution_count": 8,
   "id": "6a642160",
   "metadata": {},
   "outputs": [
    {
     "data": {
      "text/html": [
       "<div>\n",
       "<style scoped>\n",
       "    .dataframe tbody tr th:only-of-type {\n",
       "        vertical-align: middle;\n",
       "    }\n",
       "\n",
       "    .dataframe tbody tr th {\n",
       "        vertical-align: top;\n",
       "    }\n",
       "\n",
       "    .dataframe thead th {\n",
       "        text-align: right;\n",
       "    }\n",
       "</style>\n",
       "<table border=\"1\" class=\"dataframe\">\n",
       "  <thead>\n",
       "    <tr style=\"text-align: right;\">\n",
       "      <th></th>\n",
       "      <th>Review</th>\n",
       "      <th>Rating</th>\n",
       "    </tr>\n",
       "  </thead>\n",
       "  <tbody>\n",
       "    <tr>\n",
       "      <th>0</th>\n",
       "      <td>nice hotel expensive parking got good deal sta...</td>\n",
       "      <td>4</td>\n",
       "    </tr>\n",
       "    <tr>\n",
       "      <th>1</th>\n",
       "      <td>ok nothing special charge diamond member hilto...</td>\n",
       "      <td>2</td>\n",
       "    </tr>\n",
       "    <tr>\n",
       "      <th>2</th>\n",
       "      <td>nice rooms not 4* experience hotel monaco seat...</td>\n",
       "      <td>3</td>\n",
       "    </tr>\n",
       "    <tr>\n",
       "      <th>3</th>\n",
       "      <td>unique, great stay, wonderful time hotel monac...</td>\n",
       "      <td>5</td>\n",
       "    </tr>\n",
       "    <tr>\n",
       "      <th>4</th>\n",
       "      <td>great stay great stay, went seahawk game aweso...</td>\n",
       "      <td>5</td>\n",
       "    </tr>\n",
       "  </tbody>\n",
       "</table>\n",
       "</div>"
      ],
      "text/plain": [
       "                                              Review  Rating\n",
       "0  nice hotel expensive parking got good deal sta...       4\n",
       "1  ok nothing special charge diamond member hilto...       2\n",
       "2  nice rooms not 4* experience hotel monaco seat...       3\n",
       "3  unique, great stay, wonderful time hotel monac...       5\n",
       "4  great stay great stay, went seahawk game aweso...       5"
      ]
     },
     "execution_count": 8,
     "metadata": {},
     "output_type": "execute_result"
    }
   ],
   "source": [
    "df.head()"
   ]
  },
  {
   "cell_type": "code",
   "execution_count": 9,
   "id": "5a737af4",
   "metadata": {},
   "outputs": [
    {
     "name": "stdout",
     "output_type": "stream",
     "text": [
      "<class 'pandas.core.frame.DataFrame'>\n",
      "RangeIndex: 20491 entries, 0 to 20490\n",
      "Data columns (total 2 columns):\n",
      " #   Column  Non-Null Count  Dtype \n",
      "---  ------  --------------  ----- \n",
      " 0   Review  20491 non-null  object\n",
      " 1   Rating  20491 non-null  int64 \n",
      "dtypes: int64(1), object(1)\n",
      "memory usage: 320.3+ KB\n"
     ]
    }
   ],
   "source": [
    "df.info()"
   ]
  },
  {
   "cell_type": "code",
   "execution_count": 10,
   "id": "60483219",
   "metadata": {},
   "outputs": [
    {
     "data": {
      "text/plain": [
       "object    1\n",
       "int64     1\n",
       "Name: count, dtype: int64"
      ]
     },
     "execution_count": 10,
     "metadata": {},
     "output_type": "execute_result"
    }
   ],
   "source": [
    "df.dtypes.value_counts()\n"
   ]
  },
  {
   "cell_type": "code",
   "execution_count": 11,
   "id": "da067801",
   "metadata": {},
   "outputs": [
    {
     "data": {
      "text/html": [
       "<div>\n",
       "<style scoped>\n",
       "    .dataframe tbody tr th:only-of-type {\n",
       "        vertical-align: middle;\n",
       "    }\n",
       "\n",
       "    .dataframe tbody tr th {\n",
       "        vertical-align: top;\n",
       "    }\n",
       "\n",
       "    .dataframe thead th {\n",
       "        text-align: right;\n",
       "    }\n",
       "</style>\n",
       "<table border=\"1\" class=\"dataframe\">\n",
       "  <thead>\n",
       "    <tr style=\"text-align: right;\">\n",
       "      <th></th>\n",
       "      <th>Review</th>\n",
       "      <th>Rating</th>\n",
       "    </tr>\n",
       "  </thead>\n",
       "  <tbody>\n",
       "    <tr>\n",
       "      <th>13999</th>\n",
       "      <td>clean easy stayed minute saturday night paris ...</td>\n",
       "      <td>4</td>\n",
       "    </tr>\n",
       "    <tr>\n",
       "      <th>6041</th>\n",
       "      <td>barcelo palace nightmare room ground floor bro...</td>\n",
       "      <td>1</td>\n",
       "    </tr>\n",
       "    <tr>\n",
       "      <th>13737</th>\n",
       "      <td>lovely hotel summer traveled europe month stay...</td>\n",
       "      <td>5</td>\n",
       "    </tr>\n",
       "    <tr>\n",
       "      <th>16672</th>\n",
       "      <td>nice hotel great service wife stayed nights ea...</td>\n",
       "      <td>5</td>\n",
       "    </tr>\n",
       "    <tr>\n",
       "      <th>7097</th>\n",
       "      <td>relaxation husband married couple family membe...</td>\n",
       "      <td>4</td>\n",
       "    </tr>\n",
       "    <tr>\n",
       "      <th>10315</th>\n",
       "      <td>great flroence great location husband loved al...</td>\n",
       "      <td>4</td>\n",
       "    </tr>\n",
       "    <tr>\n",
       "      <th>431</th>\n",
       "      <td>small nice, decor nice not space room bathroom...</td>\n",
       "      <td>4</td>\n",
       "    </tr>\n",
       "    <tr>\n",
       "      <th>18959</th>\n",
       "      <td>mixed feeling good bad, stayed ocean blue marc...</td>\n",
       "      <td>4</td>\n",
       "    </tr>\n",
       "    <tr>\n",
       "      <th>18355</th>\n",
       "      <td>best hotel, booked superior king room january ...</td>\n",
       "      <td>5</td>\n",
       "    </tr>\n",
       "    <tr>\n",
       "      <th>5802</th>\n",
       "      <td>classy way stay nyc travelled time nyc busines...</td>\n",
       "      <td>5</td>\n",
       "    </tr>\n",
       "  </tbody>\n",
       "</table>\n",
       "</div>"
      ],
      "text/plain": [
       "                                                  Review  Rating\n",
       "13999  clean easy stayed minute saturday night paris ...       4\n",
       "6041   barcelo palace nightmare room ground floor bro...       1\n",
       "13737  lovely hotel summer traveled europe month stay...       5\n",
       "16672  nice hotel great service wife stayed nights ea...       5\n",
       "7097   relaxation husband married couple family membe...       4\n",
       "10315  great flroence great location husband loved al...       4\n",
       "431    small nice, decor nice not space room bathroom...       4\n",
       "18959  mixed feeling good bad, stayed ocean blue marc...       4\n",
       "18355  best hotel, booked superior king room january ...       5\n",
       "5802   classy way stay nyc travelled time nyc busines...       5"
      ]
     },
     "execution_count": 11,
     "metadata": {},
     "output_type": "execute_result"
    }
   ],
   "source": [
    "df.sample(10)"
   ]
  },
  {
   "cell_type": "code",
   "execution_count": 12,
   "id": "22794546",
   "metadata": {},
   "outputs": [
    {
     "data": {
      "text/plain": [
       "0"
      ]
     },
     "execution_count": 12,
     "metadata": {},
     "output_type": "execute_result"
    }
   ],
   "source": [
    "df.duplicated().sum()"
   ]
  },
  {
   "cell_type": "code",
   "execution_count": 13,
   "id": "c1cea41d",
   "metadata": {},
   "outputs": [
    {
     "data": {
      "text/plain": [
       "Review    0\n",
       "Rating    0\n",
       "dtype: int64"
      ]
     },
     "execution_count": 13,
     "metadata": {},
     "output_type": "execute_result"
    }
   ],
   "source": [
    "#Checking for missing values\n",
    "df.isnull().sum()"
   ]
  },
  {
   "cell_type": "markdown",
   "id": "10193d07",
   "metadata": {},
   "source": [
    "**No duplicates neither missing values**"
   ]
  },
  {
   "cell_type": "markdown",
   "id": "4bd800a4",
   "metadata": {},
   "source": [
    "### Structuring the data (Sentiment Analysis)"
   ]
  },
  {
   "cell_type": "markdown",
   "id": "72ddedb6",
   "metadata": {},
   "source": [
    "The next thing we'll do is use the TextBlob library. \n",
    "\n",
    "It's a Python tool that helps with understanding text. TextBlob is nice because it's easy to use, but it can do some pretty fancy stuff with text. One thing it does is it tells you if a sentence is positive or negative. It uses numbers between -1 and 1 for this, where -1 means very negative and 1 means very positive (with polarity). It also looks at words like \"not\" that can change the meaning. TextBlob can also tell you if a sentence is more personal opinion or just facts (with subjectivity). It uses a number between 0 and 1 for this. A higher number means it's more about someone's opinion. TextBlob also checks how strong a word's effect is on the next word. In English, words like \"very\" or \"really\" can make a big difference."
   ]
  },
  {
   "cell_type": "markdown",
   "id": "d22d1744",
   "metadata": {},
   "source": [
    "We picked TextBlob because it's user-friendly and can handle complex text tasks easily. While NLTK and spaCy are awesome too, TextBlob is simpler and doesn't need as much code to do things with text. It's perfect to quickly analyze text sentiment (whether it's positive or negative) or figure out how opinionated a piece of text is. Plus, it's got some neat features like recognizing emojis and figuring out how strong a word's effect is on the next word."
   ]
  },
  {
   "cell_type": "code",
   "execution_count": 14,
   "id": "4eb5923f",
   "metadata": {},
   "outputs": [
    {
     "name": "stdout",
     "output_type": "stream",
     "text": [
      "nice hotel expensive parking got good deal stay hotel anniversary, arrived late evening took advice previous reviews did valet parking, check quick easy, little disappointed non-existent view room room clean nice size, bed comfortable woke stiff neck high pillows, not soundproof like heard music room night morning loud bangs doors opening closing hear people talking hallway, maybe just noisy neighbors, aveda bath products nice, did not goldfish stay nice touch taken advantage staying longer, location great walking distance shopping, overall nice experience having pay 40 parking night,  \n"
     ]
    }
   ],
   "source": [
    "#Test textblob on the first review\n",
    "\n",
    "first_line=df['Review'].iloc[0]\n",
    "print(first_line)"
   ]
  },
  {
   "cell_type": "code",
   "execution_count": 15,
   "id": "f54ffeca",
   "metadata": {},
   "outputs": [
    {
     "data": {
      "text/plain": [
       "Sentiment(polarity=0.20874404761904758, subjectivity=0.687)"
      ]
     },
     "execution_count": 15,
     "metadata": {},
     "output_type": "execute_result"
    }
   ],
   "source": [
    "text = TB(first_line)\n",
    "text.sentiment"
   ]
  },
  {
   "cell_type": "markdown",
   "id": "ee127b1b",
   "metadata": {},
   "source": [
    "It tells us that the review has a very slightly positive sentiment (polarity = 0.2) and more of a personal opinion (subjectivity = 0.7).\n",
    "\n",
    " Now we'll apply it to the dataset, to get the sentiment of each review."
   ]
  },
  {
   "cell_type": "code",
   "execution_count": 16,
   "id": "f92e995a",
   "metadata": {},
   "outputs": [
    {
     "data": {
      "text/html": [
       "<div>\n",
       "<style scoped>\n",
       "    .dataframe tbody tr th:only-of-type {\n",
       "        vertical-align: middle;\n",
       "    }\n",
       "\n",
       "    .dataframe tbody tr th {\n",
       "        vertical-align: top;\n",
       "    }\n",
       "\n",
       "    .dataframe thead th {\n",
       "        text-align: right;\n",
       "    }\n",
       "</style>\n",
       "<table border=\"1\" class=\"dataframe\">\n",
       "  <thead>\n",
       "    <tr style=\"text-align: right;\">\n",
       "      <th></th>\n",
       "      <th>Review</th>\n",
       "      <th>Rating</th>\n",
       "      <th>Sentiment</th>\n",
       "    </tr>\n",
       "  </thead>\n",
       "  <tbody>\n",
       "    <tr>\n",
       "      <th>3561</th>\n",
       "      <td>read, husband just returned dominican, not nor...</td>\n",
       "      <td>2</td>\n",
       "      <td>0.171875</td>\n",
       "    </tr>\n",
       "    <tr>\n",
       "      <th>8588</th>\n",
       "      <td>booked internet stayed night, chose hotel pick...</td>\n",
       "      <td>1</td>\n",
       "      <td>0.052885</td>\n",
       "    </tr>\n",
       "    <tr>\n",
       "      <th>12344</th>\n",
       "      <td>different experience reading mixed reviews tho...</td>\n",
       "      <td>4</td>\n",
       "      <td>0.339493</td>\n",
       "    </tr>\n",
       "    <tr>\n",
       "      <th>2533</th>\n",
       "      <td>loved stay appreciate concerns enjoyed stay le...</td>\n",
       "      <td>4</td>\n",
       "      <td>0.092952</td>\n",
       "    </tr>\n",
       "    <tr>\n",
       "      <th>13310</th>\n",
       "      <td>great hotel not regular 5 star hotel inhabitan...</td>\n",
       "      <td>5</td>\n",
       "      <td>0.303889</td>\n",
       "    </tr>\n",
       "    <tr>\n",
       "      <th>19770</th>\n",
       "      <td>n't stay madrid, agree rave reviews site, room...</td>\n",
       "      <td>5</td>\n",
       "      <td>0.469135</td>\n",
       "    </tr>\n",
       "    <tr>\n",
       "      <th>15896</th>\n",
       "      <td>long comfort cheap smart just got 4 week consu...</td>\n",
       "      <td>4</td>\n",
       "      <td>0.188238</td>\n",
       "    </tr>\n",
       "    <tr>\n",
       "      <th>11544</th>\n",
       "      <td>noisy wife booked nights hotel did not enjoy e...</td>\n",
       "      <td>2</td>\n",
       "      <td>0.214153</td>\n",
       "    </tr>\n",
       "    <tr>\n",
       "      <th>10041</th>\n",
       "      <td>great location, fabulous location excellent pr...</td>\n",
       "      <td>4</td>\n",
       "      <td>0.237782</td>\n",
       "    </tr>\n",
       "    <tr>\n",
       "      <th>11966</th>\n",
       "      <td>great hotel stayed citigate central 3 nights i...</td>\n",
       "      <td>4</td>\n",
       "      <td>0.160687</td>\n",
       "    </tr>\n",
       "  </tbody>\n",
       "</table>\n",
       "</div>"
      ],
      "text/plain": [
       "                                                  Review  Rating  Sentiment\n",
       "3561   read, husband just returned dominican, not nor...       2   0.171875\n",
       "8588   booked internet stayed night, chose hotel pick...       1   0.052885\n",
       "12344  different experience reading mixed reviews tho...       4   0.339493\n",
       "2533   loved stay appreciate concerns enjoyed stay le...       4   0.092952\n",
       "13310  great hotel not regular 5 star hotel inhabitan...       5   0.303889\n",
       "19770  n't stay madrid, agree rave reviews site, room...       5   0.469135\n",
       "15896  long comfort cheap smart just got 4 week consu...       4   0.188238\n",
       "11544  noisy wife booked nights hotel did not enjoy e...       2   0.214153\n",
       "10041  great location, fabulous location excellent pr...       4   0.237782\n",
       "11966  great hotel stayed citigate central 3 nights i...       4   0.160687"
      ]
     },
     "execution_count": 16,
     "metadata": {},
     "output_type": "execute_result"
    }
   ],
   "source": [
    "df['Sentiment'] = df['Review'].apply(lambda x: (TB(x).sentiment.polarity))\n",
    "df.sample(10)"
   ]
  },
  {
   "cell_type": "markdown",
   "id": "a066e2b8",
   "metadata": {},
   "source": [
    "We've got the sentiment scores (polarity) for our reviews. But it is not enough to train our model effectively, we need to go a step further and categorize these scores into either 'positive' or 'negative' to feed them into our classification algorithm. To make this happen, we'll craft a function called \"**score_to_sentiment_category**\". This function will categorize the scores based on a scale ranging from -1 to 1. Scores falling between -1 and less than 0 will be labelled as negative, while a score of 0 will be seen as neutral. Scores greater than 0 up to 1 will be classified as positive.\""
   ]
  },
  {
   "cell_type": "code",
   "execution_count": 17,
   "id": "d296f20a",
   "metadata": {},
   "outputs": [],
   "source": [
    "def score_to_sentiment_category(score):\n",
    "    if -1 <= score < 0:\n",
    "        return 'negative'\n",
    "    if score == 0:\n",
    "        return 'neutral'\n",
    "    if 0 < score <= 1:\n",
    "        return 'positive'"
   ]
  },
  {
   "cell_type": "code",
   "execution_count": 18,
   "id": "4690bcb2",
   "metadata": {},
   "outputs": [
    {
     "data": {
      "text/html": [
       "<div>\n",
       "<style scoped>\n",
       "    .dataframe tbody tr th:only-of-type {\n",
       "        vertical-align: middle;\n",
       "    }\n",
       "\n",
       "    .dataframe tbody tr th {\n",
       "        vertical-align: top;\n",
       "    }\n",
       "\n",
       "    .dataframe thead th {\n",
       "        text-align: right;\n",
       "    }\n",
       "</style>\n",
       "<table border=\"1\" class=\"dataframe\">\n",
       "  <thead>\n",
       "    <tr style=\"text-align: right;\">\n",
       "      <th></th>\n",
       "      <th>Review</th>\n",
       "      <th>Rating</th>\n",
       "      <th>Sentiment</th>\n",
       "    </tr>\n",
       "  </thead>\n",
       "  <tbody>\n",
       "    <tr>\n",
       "      <th>18502</th>\n",
       "      <td>beautiful hotel, stay punta cana majestic colo...</td>\n",
       "      <td>5</td>\n",
       "      <td>positive</td>\n",
       "    </tr>\n",
       "    <tr>\n",
       "      <th>4016</th>\n",
       "      <td>friendly safe perfect location, hotel milano c...</td>\n",
       "      <td>4</td>\n",
       "      <td>positive</td>\n",
       "    </tr>\n",
       "    <tr>\n",
       "      <th>9767</th>\n",
       "      <td>good location lleo hotel fantastic location ju...</td>\n",
       "      <td>3</td>\n",
       "      <td>positive</td>\n",
       "    </tr>\n",
       "    <tr>\n",
       "      <th>2400</th>\n",
       "      <td>way expectations booking hotel looked expedia ...</td>\n",
       "      <td>2</td>\n",
       "      <td>positive</td>\n",
       "    </tr>\n",
       "    <tr>\n",
       "      <th>15667</th>\n",
       "      <td>not deluxe great service quite hotels marina a...</td>\n",
       "      <td>4</td>\n",
       "      <td>positive</td>\n",
       "    </tr>\n",
       "    <tr>\n",
       "      <th>7075</th>\n",
       "      <td>spoiled honeymoon, want right, read reviews le...</td>\n",
       "      <td>5</td>\n",
       "      <td>positive</td>\n",
       "    </tr>\n",
       "    <tr>\n",
       "      <th>5616</th>\n",
       "      <td>better hotels arround rate area stayed hotel 5...</td>\n",
       "      <td>1</td>\n",
       "      <td>positive</td>\n",
       "    </tr>\n",
       "    <tr>\n",
       "      <th>7739</th>\n",
       "      <td>treated like royalty proposed girlfriend ritz ...</td>\n",
       "      <td>5</td>\n",
       "      <td>positive</td>\n",
       "    </tr>\n",
       "    <tr>\n",
       "      <th>4106</th>\n",
       "      <td>loved hotel emporio reforma visited mexico cit...</td>\n",
       "      <td>5</td>\n",
       "      <td>positive</td>\n",
       "    </tr>\n",
       "    <tr>\n",
       "      <th>11543</th>\n",
       "      <td>not worth money read booking rooms barcelona f...</td>\n",
       "      <td>2</td>\n",
       "      <td>positive</td>\n",
       "    </tr>\n",
       "  </tbody>\n",
       "</table>\n",
       "</div>"
      ],
      "text/plain": [
       "                                                  Review  Rating Sentiment\n",
       "18502  beautiful hotel, stay punta cana majestic colo...       5  positive\n",
       "4016   friendly safe perfect location, hotel milano c...       4  positive\n",
       "9767   good location lleo hotel fantastic location ju...       3  positive\n",
       "2400   way expectations booking hotel looked expedia ...       2  positive\n",
       "15667  not deluxe great service quite hotels marina a...       4  positive\n",
       "7075   spoiled honeymoon, want right, read reviews le...       5  positive\n",
       "5616   better hotels arround rate area stayed hotel 5...       1  positive\n",
       "7739   treated like royalty proposed girlfriend ritz ...       5  positive\n",
       "4106   loved hotel emporio reforma visited mexico cit...       5  positive\n",
       "11543  not worth money read booking rooms barcelona f...       2  positive"
      ]
     },
     "execution_count": 18,
     "metadata": {},
     "output_type": "execute_result"
    }
   ],
   "source": [
    "#We apply our previous function to'Sentiment' column\n",
    "\n",
    "df.Sentiment = df.Sentiment.apply(score_to_sentiment_category)\n",
    "df.sample(10)"
   ]
  },
  {
   "cell_type": "markdown",
   "id": "e04dc2b6",
   "metadata": {},
   "source": [
    "From the dataframe, we can see our function worked and we have a labelled dataset representing sentiment, categorized as 'positive' or 'negative"
   ]
  },
  {
   "cell_type": "code",
   "execution_count": 19,
   "id": "2b208624",
   "metadata": {},
   "outputs": [
    {
     "data": {
      "text/plain": [
       "Sentiment\n",
       "positive    19112\n",
       "negative     1356\n",
       "neutral        23\n",
       "Name: count, dtype: int64"
      ]
     },
     "execution_count": 19,
     "metadata": {},
     "output_type": "execute_result"
    }
   ],
   "source": [
    "#Viewing the number of times each category appears in the 'Sentiment' column\n",
    "df['Sentiment'].value_counts()"
   ]
  },
  {
   "cell_type": "markdown",
   "id": "f9db3cfb",
   "metadata": {},
   "source": [
    "The dataset seem highly imbalanced, let's visualize it:"
   ]
  },
  {
   "cell_type": "code",
   "execution_count": 20,
   "id": "b28bebe4",
   "metadata": {},
   "outputs": [
    {
     "data": {
      "image/png": "[encoded data removed]",
      "text/plain": [
       "<Figure size 640x480 with 1 Axes>"
      ]
     },
     "metadata": {},
     "output_type": "display_data"
    }
   ],
   "source": [
    "f = np.array([19112, 1356, 23])\n",
    "mylabels = ['positive', 'negative', 'neutral']\n",
    "\n",
    "colors = ['#1f77b4', '#2ca02c', '#ff7f0e']\n",
    "\n",
    "plt.pie(f, labels = mylabels, colors=colors)\n",
    "plt.show() "
   ]
  },
  {
   "cell_type": "code",
   "execution_count": 21,
   "id": "0968cb6d",
   "metadata": {},
   "outputs": [
    {
     "name": "stdout",
     "output_type": "stream",
     "text": [
      "Percentage of positive reviews: 93.27021619247475 %\n",
      "Percentage of negative reviews: 6.6175394075447755 %\n",
      "Percentage of neutral reviews: 0.11224439998047925 %\n"
     ]
    }
   ],
   "source": [
    "# Counts of reviews\n",
    "positive_count = 19112\n",
    "negative_count = 1356\n",
    "neutral_count = 23\n",
    "\n",
    "# Total number of reviews\n",
    "total_reviews = positive_count + negative_count + neutral_count\n",
    "\n",
    "# Calculate percentages\n",
    "positive_percentage = (positive_count / total_reviews) * 100\n",
    "negative_percentage = (negative_count / total_reviews) * 100\n",
    "neutral_percentage = (neutral_count / total_reviews) * 100\n",
    "\n",
    "# Print percentages\n",
    "print(\"Percentage of positive reviews:\", positive_percentage, \"%\")\n",
    "print(\"Percentage of negative reviews:\", negative_percentage, \"%\")\n",
    "print(\"Percentage of neutral reviews:\", neutral_percentage, \"%\")\n"
   ]
  },
  {
   "cell_type": "markdown",
   "id": "bc653a46",
   "metadata": {},
   "source": [
    "We have about 93% percent of reviews as positive, about 6.6% percent of reviews as negative and about 0.1% of reviews as neutral, we can see there is a clear imbalance in the label, as we have positive sentiment accounting for almost all the observations."
   ]
  },
  {
   "cell_type": "markdown",
   "id": "48f04fb9",
   "metadata": {},
   "source": [
    "Let's move on to feature selection, the imbalanced dataset will be handled with an imbalanced classifier that will balance our dataset"
   ]
  },
  {
   "cell_type": "code",
   "execution_count": 22,
   "id": "90333fe7",
   "metadata": {},
   "outputs": [],
   "source": [
    "x = df['Review']"
   ]
  },
  {
   "cell_type": "code",
   "execution_count": 23,
   "id": "dadc8638",
   "metadata": {},
   "outputs": [],
   "source": [
    "y = df['Sentiment']"
   ]
  },
  {
   "cell_type": "code",
   "execution_count": 24,
   "id": "6a6868e5",
   "metadata": {},
   "outputs": [
    {
     "data": {
      "text/plain": [
       "(20491,)"
      ]
     },
     "execution_count": 24,
     "metadata": {},
     "output_type": "execute_result"
    }
   ],
   "source": [
    "x.shape"
   ]
  },
  {
   "cell_type": "code",
   "execution_count": 25,
   "id": "cb7c408d",
   "metadata": {},
   "outputs": [
    {
     "data": {
      "text/plain": [
       "(20491,)"
      ]
     },
     "execution_count": 25,
     "metadata": {},
     "output_type": "execute_result"
    }
   ],
   "source": [
    "y.shape"
   ]
  },
  {
   "cell_type": "markdown",
   "id": "930177a9",
   "metadata": {},
   "source": [
    "**Splitting the data**"
   ]
  },
  {
   "cell_type": "code",
   "execution_count": 26,
   "id": "9d32e8b1",
   "metadata": {},
   "outputs": [],
   "source": [
    "from sklearn.model_selection import train_test_split\n",
    "x_train, x_test, y_train, y_test = train_test_split(x, y, test_size = 0.3, random_state = 4)"
   ]
  },
  {
   "cell_type": "markdown",
   "id": "a697272e",
   "metadata": {},
   "source": [
    "**Tfidf Vectorizer**"
   ]
  },
  {
   "cell_type": "code",
   "execution_count": 27,
   "id": "580664cf",
   "metadata": {},
   "outputs": [],
   "source": [
    "from sklearn.feature_extraction.text import TfidfVectorizer"
   ]
  },
  {
   "cell_type": "code",
   "execution_count": 28,
   "id": "be73a5d2",
   "metadata": {},
   "outputs": [],
   "source": [
    "tfidf_vector = TfidfVectorizer(ngram_range=(1,1), lowercase = True, stop_words= 'english')"
   ]
  },
  {
   "cell_type": "code",
   "execution_count": 29,
   "id": "4c812dbb",
   "metadata": {},
   "outputs": [],
   "source": [
    "x_train = tfidf_vector.fit_transform(x_train)"
   ]
  },
  {
   "cell_type": "code",
   "execution_count": 30,
   "id": "32635d7d",
   "metadata": {},
   "outputs": [],
   "source": [
    "x_test  = tfidf_vector.transform(x_test)"
   ]
  },
  {
   "cell_type": "markdown",
   "id": "4ca35304",
   "metadata": {},
   "source": [
    "In order to properly represent document content for machine learning tasks, we use the TF-IDF Vectorizer to convert text data into numerical feature vectors based on the relevance of each word in the documents. This allows us to capture both frequency and rarity of each word."
   ]
  },
  {
   "cell_type": "markdown",
   "id": "c97a8cc1",
   "metadata": {},
   "source": [
    "**Training for decision trees**"
   ]
  },
  {
   "cell_type": "code",
   "execution_count": 31,
   "id": "4900b0a7",
   "metadata": {},
   "outputs": [
    {
     "name": "stdout",
     "output_type": "stream",
     "text": [
      "Requirement already satisfied: imbalanced-learn in c:\\users\\islam\\anaconda3\\lib\\site-packages (0.12.2)\n",
      "Requirement already satisfied: numpy>=1.17.3 in c:\\users\\islam\\anaconda3\\lib\\site-packages (from imbalanced-learn) (1.24.3)\n",
      "Requirement already satisfied: scipy>=1.5.0 in c:\\users\\islam\\anaconda3\\lib\\site-packages (from imbalanced-learn) (1.11.1)\n",
      "Requirement already satisfied: scikit-learn>=1.0.2 in c:\\users\\islam\\anaconda3\\lib\\site-packages (from imbalanced-learn) (1.3.0)\n",
      "Requirement already satisfied: joblib>=1.1.1 in c:\\users\\islam\\anaconda3\\lib\\site-packages (from imbalanced-learn) (1.2.0)\n",
      "Requirement already satisfied: threadpoolctl>=2.0.0 in c:\\users\\islam\\anaconda3\\lib\\site-packages (from imbalanced-learn) (2.2.0)\n",
      "Note: you may need to restart the kernel to use updated packages.\n"
     ]
    }
   ],
   "source": [
    "pip install imbalanced-learn"
   ]
  },
  {
   "cell_type": "code",
   "execution_count": 32,
   "id": "e2a4df6e",
   "metadata": {},
   "outputs": [],
   "source": [
    "from imblearn.ensemble import BalancedBaggingClassifier\n",
    "from sklearn.tree import DecisionTreeClassifier"
   ]
  },
  {
   "cell_type": "code",
   "execution_count": 33,
   "id": "d596dea9",
   "metadata": {},
   "outputs": [
    {
     "data": {
      "text/html": [
       "<style>#sk-container-id-1 {color: black;}#sk-container-id-1 pre{padding: 0;}#sk-container-id-1 div.sk-toggleable {background-color: white;}#sk-container-id-1 label.sk-toggleable__label {cursor: pointer;display: block;width: 100%;margin-bottom: 0;padding: 0.3em;box-sizing: border-box;text-align: center;}#sk-container-id-1 label.sk-toggleable__label-arrow:before {content: \"▸\";float: left;margin-right: 0.25em;color: #696969;}#sk-container-id-1 label.sk-toggleable__label-arrow:hover:before {color: black;}#sk-container-id-1 div.sk-estimator:hover label.sk-toggleable__label-arrow:before {color: black;}#sk-container-id-1 div.sk-toggleable__content {max-height: 0;max-width: 0;overflow: hidden;text-align: left;background-color: #f0f8ff;}#sk-container-id-1 div.sk-toggleable__content pre {margin: 0.2em;color: black;border-radius: 0.25em;background-color: #f0f8ff;}#sk-container-id-1 input.sk-toggleable__control:checked~div.sk-toggleable__content {max-height: 200px;max-width: 100%;overflow: auto;}#sk-container-id-1 input.sk-toggleable__control:checked~label.sk-toggleable__label-arrow:before {content: \"▾\";}#sk-container-id-1 div.sk-estimator input.sk-toggleable__control:checked~label.sk-toggleable__label {background-color: #d4ebff;}#sk-container-id-1 div.sk-label input.sk-toggleable__control:checked~label.sk-toggleable__label {background-color: #d4ebff;}#sk-container-id-1 input.sk-hidden--visually {border: 0;clip: rect(1px 1px 1px 1px);clip: rect(1px, 1px, 1px, 1px);height: 1px;margin: -1px;overflow: hidden;padding: 0;position: absolute;width: 1px;}#sk-container-id-1 div.sk-estimator {font-family: monospace;background-color: #f0f8ff;border: 1px dotted black;border-radius: 0.25em;box-sizing: border-box;margin-bottom: 0.5em;}#sk-container-id-1 div.sk-estimator:hover {background-color: #d4ebff;}#sk-container-id-1 div.sk-parallel-item::after {content: \"\";width: 100%;border-bottom: 1px solid gray;flex-grow: 1;}#sk-container-id-1 div.sk-label:hover label.sk-toggleable__label {background-color: #d4ebff;}#sk-container-id-1 div.sk-serial::before {content: \"\";position: absolute;border-left: 1px solid gray;box-sizing: border-box;top: 0;bottom: 0;left: 50%;z-index: 0;}#sk-container-id-1 div.sk-serial {display: flex;flex-direction: column;align-items: center;background-color: white;padding-right: 0.2em;padding-left: 0.2em;position: relative;}#sk-container-id-1 div.sk-item {position: relative;z-index: 1;}#sk-container-id-1 div.sk-parallel {display: flex;align-items: stretch;justify-content: center;background-color: white;position: relative;}#sk-container-id-1 div.sk-item::before, #sk-container-id-1 div.sk-parallel-item::before {content: \"\";position: absolute;border-left: 1px solid gray;box-sizing: border-box;top: 0;bottom: 0;left: 50%;z-index: -1;}#sk-container-id-1 div.sk-parallel-item {display: flex;flex-direction: column;z-index: 1;position: relative;background-color: white;}#sk-container-id-1 div.sk-parallel-item:first-child::after {align-self: flex-end;width: 50%;}#sk-container-id-1 div.sk-parallel-item:last-child::after {align-self: flex-start;width: 50%;}#sk-container-id-1 div.sk-parallel-item:only-child::after {width: 0;}#sk-container-id-1 div.sk-dashed-wrapped {border: 1px dashed gray;margin: 0 0.4em 0.5em 0.4em;box-sizing: border-box;padding-bottom: 0.4em;background-color: white;}#sk-container-id-1 div.sk-label label {font-family: monospace;font-weight: bold;display: inline-block;line-height: 1.2em;}#sk-container-id-1 div.sk-label-container {text-align: center;}#sk-container-id-1 div.sk-container {/* jupyter's `normalize.less` sets `[hidden] { display: none; }` but bootstrap.min.css set `[hidden] { display: none !important; }` so we also need the `!important` here to be able to override the default hidden behavior on the sphinx rendered scikit-learn.org. See: https://github.com/scikit-learn/scikit-learn/issues/21755 */display: inline-block !important;position: relative;}#sk-container-id-1 div.sk-text-repr-fallback {display: none;}</style><div id=\"sk-container-id-1\" class=\"sk-top-container\"><div class=\"sk-text-repr-fallback\"><pre>BalancedBaggingClassifier(estimator=DecisionTreeClassifier(), random_state=42,\n",
       "                          sampling_strategy=&#x27;not majority&#x27;)</pre><b>In a Jupyter environment, please rerun this cell to show the HTML representation or trust the notebook. <br />On GitHub, the HTML representation is unable to render, please try loading this page with nbviewer.org.</b></div><div class=\"sk-container\" hidden><div class=\"sk-item sk-dashed-wrapped\"><div class=\"sk-label-container\"><div class=\"sk-label sk-toggleable\"><input class=\"sk-toggleable__control sk-hidden--visually\" id=\"sk-estimator-id-1\" type=\"checkbox\" ><label for=\"sk-estimator-id-1\" class=\"sk-toggleable__label sk-toggleable__label-arrow\">BalancedBaggingClassifier</label><div class=\"sk-toggleable__content\"><pre>BalancedBaggingClassifier(estimator=DecisionTreeClassifier(), random_state=42,\n",
       "                          sampling_strategy=&#x27;not majority&#x27;)</pre></div></div></div><div class=\"sk-parallel\"><div class=\"sk-parallel-item\"><div class=\"sk-item\"><div class=\"sk-label-container\"><div class=\"sk-label sk-toggleable\"><input class=\"sk-toggleable__control sk-hidden--visually\" id=\"sk-estimator-id-2\" type=\"checkbox\" ><label for=\"sk-estimator-id-2\" class=\"sk-toggleable__label sk-toggleable__label-arrow\">estimator: DecisionTreeClassifier</label><div class=\"sk-toggleable__content\"><pre>DecisionTreeClassifier()</pre></div></div></div><div class=\"sk-serial\"><div class=\"sk-item\"><div class=\"sk-estimator sk-toggleable\"><input class=\"sk-toggleable__control sk-hidden--visually\" id=\"sk-estimator-id-3\" type=\"checkbox\" ><label for=\"sk-estimator-id-3\" class=\"sk-toggleable__label sk-toggleable__label-arrow\">DecisionTreeClassifier</label><div class=\"sk-toggleable__content\"><pre>DecisionTreeClassifier()</pre></div></div></div></div></div></div></div></div></div></div>"
      ],
      "text/plain": [
       "BalancedBaggingClassifier(estimator=DecisionTreeClassifier(), random_state=42,\n",
       "                          sampling_strategy='not majority')"
      ]
     },
     "execution_count": 33,
     "metadata": {},
     "output_type": "execute_result"
    }
   ],
   "source": [
    "classifier = BalancedBaggingClassifier(estimator=DecisionTreeClassifier(),\n",
    "                                sampling_strategy='not majority',\n",
    "                                replacement=False,\n",
    "                                random_state=42)\n",
    "classifier.fit(x_train, y_train)"
   ]
  },
  {
   "cell_type": "markdown",
   "id": "78838c1a",
   "metadata": {},
   "source": [
    "BalancedBaggingClassifier is a machine learning algorithm that combines multiple classifiers trained on balanced subsets of data to address imbalanced class distributions, and we chose 'not majority' to ensure that the minority classes receive more representation in the training samples than the majority class, thus improving model performance on minority classes."
   ]
  },
  {
   "cell_type": "code",
   "execution_count": 44,
   "id": "d9b2cded",
   "metadata": {},
   "outputs": [],
   "source": [
    "y_hat = classifier.predict(x_test)"
   ]
  },
  {
   "cell_type": "markdown",
   "id": "120a358d",
   "metadata": {},
   "source": [
    "**Evaluation of decision trees**"
   ]
  },
  {
   "cell_type": "code",
   "execution_count": 45,
   "id": "b0cb7a39",
   "metadata": {},
   "outputs": [],
   "source": [
    "from sklearn.metrics import accuracy_score, precision_score, recall_score, f1_score"
   ]
  },
  {
   "cell_type": "code",
   "execution_count": 46,
   "id": "03775fa6",
   "metadata": {},
   "outputs": [
    {
     "name": "stdout",
     "output_type": "stream",
     "text": [
      "Accuracy : 0.93\n"
     ]
    }
   ],
   "source": [
    "accuracy = accuracy_score(y_hat, y_test)\n",
    "rounded_accuracy = round(accuracy, 2)\n",
    "print(\"Accuracy :\", rounded_accuracy)"
   ]
  },
  {
   "cell_type": "code",
   "execution_count": 47,
   "id": "43521bfe",
   "metadata": {},
   "outputs": [
    {
     "data": {
      "text/plain": [
       "1.0"
      ]
     },
     "execution_count": 47,
     "metadata": {},
     "output_type": "execute_result"
    }
   ],
   "source": [
    "precision_score(y_hat, y_test, average='weighted')"
   ]
  },
  {
   "cell_type": "code",
   "execution_count": 48,
   "id": "2c365eaf",
   "metadata": {},
   "outputs": [
    {
     "data": {
      "text/plain": [
       "0.933636955107352"
      ]
     },
     "execution_count": 48,
     "metadata": {},
     "output_type": "execute_result"
    }
   ],
   "source": [
    "recall_score(y_hat, y_test, average='weighted')"
   ]
  },
  {
   "cell_type": "code",
   "execution_count": 49,
   "id": "05f0a437",
   "metadata": {},
   "outputs": [
    {
     "data": {
      "text/plain": [
       "0.9656796769851952"
      ]
     },
     "execution_count": 49,
     "metadata": {},
     "output_type": "execute_result"
    }
   ],
   "source": [
    "f1_score(y_hat, y_test, average='weighted')"
   ]
  },
  {
   "cell_type": "markdown",
   "id": "abf4c296",
   "metadata": {},
   "source": [
    "**Training for logistic regression**"
   ]
  },
  {
   "cell_type": "code",
   "execution_count": 50,
   "id": "cbbeb67d",
   "metadata": {},
   "outputs": [],
   "source": [
    "from sklearn.linear_model import LogisticRegression"
   ]
  },
  {
   "cell_type": "code",
   "execution_count": 51,
   "id": "f1c1ac11",
   "metadata": {},
   "outputs": [
    {
     "data": {
      "text/html": [
       "<style>#sk-container-id-3 {color: black;}#sk-container-id-3 pre{padding: 0;}#sk-container-id-3 div.sk-toggleable {background-color: white;}#sk-container-id-3 label.sk-toggleable__label {cursor: pointer;display: block;width: 100%;margin-bottom: 0;padding: 0.3em;box-sizing: border-box;text-align: center;}#sk-container-id-3 label.sk-toggleable__label-arrow:before {content: \"▸\";float: left;margin-right: 0.25em;color: #696969;}#sk-container-id-3 label.sk-toggleable__label-arrow:hover:before {color: black;}#sk-container-id-3 div.sk-estimator:hover label.sk-toggleable__label-arrow:before {color: black;}#sk-container-id-3 div.sk-toggleable__content {max-height: 0;max-width: 0;overflow: hidden;text-align: left;background-color: #f0f8ff;}#sk-container-id-3 div.sk-toggleable__content pre {margin: 0.2em;color: black;border-radius: 0.25em;background-color: #f0f8ff;}#sk-container-id-3 input.sk-toggleable__control:checked~div.sk-toggleable__content {max-height: 200px;max-width: 100%;overflow: auto;}#sk-container-id-3 input.sk-toggleable__control:checked~label.sk-toggleable__label-arrow:before {content: \"▾\";}#sk-container-id-3 div.sk-estimator input.sk-toggleable__control:checked~label.sk-toggleable__label {background-color: #d4ebff;}#sk-container-id-3 div.sk-label input.sk-toggleable__control:checked~label.sk-toggleable__label {background-color: #d4ebff;}#sk-container-id-3 input.sk-hidden--visually {border: 0;clip: rect(1px 1px 1px 1px);clip: rect(1px, 1px, 1px, 1px);height: 1px;margin: -1px;overflow: hidden;padding: 0;position: absolute;width: 1px;}#sk-container-id-3 div.sk-estimator {font-family: monospace;background-color: #f0f8ff;border: 1px dotted black;border-radius: 0.25em;box-sizing: border-box;margin-bottom: 0.5em;}#sk-container-id-3 div.sk-estimator:hover {background-color: #d4ebff;}#sk-container-id-3 div.sk-parallel-item::after {content: \"\";width: 100%;border-bottom: 1px solid gray;flex-grow: 1;}#sk-container-id-3 div.sk-label:hover label.sk-toggleable__label {background-color: #d4ebff;}#sk-container-id-3 div.sk-serial::before {content: \"\";position: absolute;border-left: 1px solid gray;box-sizing: border-box;top: 0;bottom: 0;left: 50%;z-index: 0;}#sk-container-id-3 div.sk-serial {display: flex;flex-direction: column;align-items: center;background-color: white;padding-right: 0.2em;padding-left: 0.2em;position: relative;}#sk-container-id-3 div.sk-item {position: relative;z-index: 1;}#sk-container-id-3 div.sk-parallel {display: flex;align-items: stretch;justify-content: center;background-color: white;position: relative;}#sk-container-id-3 div.sk-item::before, #sk-container-id-3 div.sk-parallel-item::before {content: \"\";position: absolute;border-left: 1px solid gray;box-sizing: border-box;top: 0;bottom: 0;left: 50%;z-index: -1;}#sk-container-id-3 div.sk-parallel-item {display: flex;flex-direction: column;z-index: 1;position: relative;background-color: white;}#sk-container-id-3 div.sk-parallel-item:first-child::after {align-self: flex-end;width: 50%;}#sk-container-id-3 div.sk-parallel-item:last-child::after {align-self: flex-start;width: 50%;}#sk-container-id-3 div.sk-parallel-item:only-child::after {width: 0;}#sk-container-id-3 div.sk-dashed-wrapped {border: 1px dashed gray;margin: 0 0.4em 0.5em 0.4em;box-sizing: border-box;padding-bottom: 0.4em;background-color: white;}#sk-container-id-3 div.sk-label label {font-family: monospace;font-weight: bold;display: inline-block;line-height: 1.2em;}#sk-container-id-3 div.sk-label-container {text-align: center;}#sk-container-id-3 div.sk-container {/* jupyter's `normalize.less` sets `[hidden] { display: none; }` but bootstrap.min.css set `[hidden] { display: none !important; }` so we also need the `!important` here to be able to override the default hidden behavior on the sphinx rendered scikit-learn.org. See: https://github.com/scikit-learn/scikit-learn/issues/21755 */display: inline-block !important;position: relative;}#sk-container-id-3 div.sk-text-repr-fallback {display: none;}</style><div id=\"sk-container-id-3\" class=\"sk-top-container\"><div class=\"sk-text-repr-fallback\"><pre>BalancedBaggingClassifier(estimator=LogisticRegression(), random_state=42,\n",
       "                          sampling_strategy=&#x27;not majority&#x27;)</pre><b>In a Jupyter environment, please rerun this cell to show the HTML representation or trust the notebook. <br />On GitHub, the HTML representation is unable to render, please try loading this page with nbviewer.org.</b></div><div class=\"sk-container\" hidden><div class=\"sk-item sk-dashed-wrapped\"><div class=\"sk-label-container\"><div class=\"sk-label sk-toggleable\"><input class=\"sk-toggleable__control sk-hidden--visually\" id=\"sk-estimator-id-7\" type=\"checkbox\" ><label for=\"sk-estimator-id-7\" class=\"sk-toggleable__label sk-toggleable__label-arrow\">BalancedBaggingClassifier</label><div class=\"sk-toggleable__content\"><pre>BalancedBaggingClassifier(estimator=LogisticRegression(), random_state=42,\n",
       "                          sampling_strategy=&#x27;not majority&#x27;)</pre></div></div></div><div class=\"sk-parallel\"><div class=\"sk-parallel-item\"><div class=\"sk-item\"><div class=\"sk-label-container\"><div class=\"sk-label sk-toggleable\"><input class=\"sk-toggleable__control sk-hidden--visually\" id=\"sk-estimator-id-8\" type=\"checkbox\" ><label for=\"sk-estimator-id-8\" class=\"sk-toggleable__label sk-toggleable__label-arrow\">estimator: LogisticRegression</label><div class=\"sk-toggleable__content\"><pre>LogisticRegression()</pre></div></div></div><div class=\"sk-serial\"><div class=\"sk-item\"><div class=\"sk-estimator sk-toggleable\"><input class=\"sk-toggleable__control sk-hidden--visually\" id=\"sk-estimator-id-9\" type=\"checkbox\" ><label for=\"sk-estimator-id-9\" class=\"sk-toggleable__label sk-toggleable__label-arrow\">LogisticRegression</label><div class=\"sk-toggleable__content\"><pre>LogisticRegression()</pre></div></div></div></div></div></div></div></div></div></div>"
      ],
      "text/plain": [
       "BalancedBaggingClassifier(estimator=LogisticRegression(), random_state=42,\n",
       "                          sampling_strategy='not majority')"
      ]
     },
     "execution_count": 51,
     "metadata": {},
     "output_type": "execute_result"
    }
   ],
   "source": [
    "classif2 = BalancedBaggingClassifier(estimator=LogisticRegression(),\n",
    "                                sampling_strategy='not majority',\n",
    "                                replacement=False,\n",
    "                                random_state=42)\n",
    "classif2.fit(x_train, y_train)"
   ]
  },
  {
   "cell_type": "markdown",
   "id": "3d22cb4e",
   "metadata": {},
   "source": [
    "**Evaluation for logistic regression**"
   ]
  },
  {
   "cell_type": "code",
   "execution_count": 52,
   "id": "38aa8cd5",
   "metadata": {},
   "outputs": [],
   "source": [
    "y_hat_logistic = classif2.predict(x_test)"
   ]
  },
  {
   "cell_type": "code",
   "execution_count": 53,
   "id": "fb6ee528",
   "metadata": {},
   "outputs": [
    {
     "name": "stdout",
     "output_type": "stream",
     "text": [
      "Accuracy : 0.93\n"
     ]
    }
   ],
   "source": [
    "accuracy = accuracy_score(y_hat_logistic, y_test)\n",
    "rounded_accuracy = round(accuracy, 2)\n",
    "print(\"Accuracy :\", rounded_accuracy)"
   ]
  },
  {
   "cell_type": "code",
   "execution_count": 54,
   "id": "1f5b68ed",
   "metadata": {},
   "outputs": [
    {
     "data": {
      "text/plain": [
       "1.0"
      ]
     },
     "execution_count": 54,
     "metadata": {},
     "output_type": "execute_result"
    }
   ],
   "source": [
    "precision_score(y_hat_logistic, y_test, average='weighted')"
   ]
  },
  {
   "cell_type": "code",
   "execution_count": 55,
   "id": "7f925cdd",
   "metadata": {},
   "outputs": [
    {
     "data": {
      "text/plain": [
       "0.933636955107352"
      ]
     },
     "execution_count": 55,
     "metadata": {},
     "output_type": "execute_result"
    }
   ],
   "source": [
    "recall_score(y_hat_logistic, y_test, average='weighted')"
   ]
  },
  {
   "cell_type": "code",
   "execution_count": 56,
   "id": "06fd46d5",
   "metadata": {},
   "outputs": [
    {
     "data": {
      "text/plain": [
       "0.9656796769851952"
      ]
     },
     "execution_count": 56,
     "metadata": {},
     "output_type": "execute_result"
    }
   ],
   "source": [
    "f1_score(y_hat_logistic, y_test, average='weighted')"
   ]
  },
  {
   "cell_type": "code",
   "execution_count": null,
   "id": "b6a866e5",
   "metadata": {},
   "outputs": [],
   "source": [
    "classifier = BalancedBaggingClassifier(estimator=DecisionTreeClassifier(),\n",
    "                                sampling_strategy='not majority',\n",
    "                                replacement=False,\n",
    "                                random_state=42)\n",
    "classifier.fit(x_train, y_train)"
   ]
  },
  {
   "cell_type": "code",
   "execution_count": 62,
   "id": "eb6f56bb",
   "metadata": {},
   "outputs": [],
   "source": [
    "from sklearn.ensemble import RandomForestClassifier\n"
   ]
  },
  {
   "cell_type": "code",
   "execution_count": null,
   "id": "6d473dcc",
   "metadata": {},
   "outputs": [],
   "source": [
    "# Initialize the BalancedBaggingClassifier with RandomForestClassifier as estimator\n",
    "classif = BalancedBaggingClassifier(estimator=RandomForestClassifier(),\n",
    "                                    sampling_strategy='not majority',\n",
    "                                    replacement=False,\n",
    "                                    random_state=42)\n",
    "\n",
    "# Fit the classifier\n",
    "classif.fit(x_train, y_train)"
   ]
  },
  {
   "cell_type": "markdown",
   "id": "be0d3fec",
   "metadata": {},
   "source": [
    "Evaluation for Random Forest"
   ]
  },
  {
   "cell_type": "code",
   "execution_count": 65,
   "id": "51b50baf",
   "metadata": {},
   "outputs": [],
   "source": [
    "from sklearn.metrics import accuracy_score, precision_score, recall_score, f1_score"
   ]
  },
  {
   "cell_type": "code",
   "execution_count": 70,
   "id": "4706674a",
   "metadata": {},
   "outputs": [],
   "source": [
    "y_hat = classifier.predict(x_test)"
   ]
  },
  {
   "cell_type": "code",
   "execution_count": 71,
   "id": "b36e6017",
   "metadata": {},
   "outputs": [
    {
     "name": "stdout",
     "output_type": "stream",
     "text": [
      "Accuracy : 0.93\n"
     ]
    }
   ],
   "source": [
    "accuracy = accuracy_score(y_hat, y_test)\n",
    "rounded_accuracy = round(accuracy, 2)\n",
    "print(\"Accuracy :\", rounded_accuracy)"
   ]
  },
  {
   "cell_type": "code",
   "execution_count": 72,
   "id": "8961b867",
   "metadata": {},
   "outputs": [
    {
     "data": {
      "text/plain": [
       "1.0"
      ]
     },
     "execution_count": 72,
     "metadata": {},
     "output_type": "execute_result"
    }
   ],
   "source": [
    "precision_score(y_hat_logistic, y_test, average='weighted')"
   ]
  },
  {
   "cell_type": "code",
   "execution_count": 73,
   "id": "f9c0d71a",
   "metadata": {},
   "outputs": [
    {
     "data": {
      "text/plain": [
       "0.933636955107352"
      ]
     },
     "execution_count": 73,
     "metadata": {},
     "output_type": "execute_result"
    }
   ],
   "source": [
    "recall_score(y_hat, y_test, average='weighted')"
   ]
  },
  {
   "cell_type": "code",
   "execution_count": 74,
   "id": "d123018e",
   "metadata": {},
   "outputs": [
    {
     "data": {
      "text/plain": [
       "0.9656796769851952"
      ]
     },
     "execution_count": 74,
     "metadata": {},
     "output_type": "execute_result"
    }
   ],
   "source": [
    "f1_score(y_hat_logistic, y_test, average='weighted')"
   ]
  },
  {
   "cell_type": "code",
   "execution_count": 82,
   "id": "0a388f67",
   "metadata": {},
   "outputs": [
    {
     "data": {
      "text/plain": [
       "array(['positive'], dtype=object)"
      ]
     },
     "execution_count": 82,
     "metadata": {},
     "output_type": "execute_result"
    }
   ],
   "source": [
    "sample_input_data = ['I had a wonderful time, good hotel, good service']\n",
    "sample_input_data_to_array =  (tfidf_vector.transform(sample_input_data).toarray())\n",
    "classif.predict(sample_input_data_to_array)"
   ]
  },
  {
   "cell_type": "code",
   "execution_count": null,
   "id": "f6679e8a",
   "metadata": {},
   "outputs": [],
   "source": []
  }
 ],
 "metadata": {
  "kernelspec": {
   "display_name": "Python 3 (ipykernel)",
   "language": "python",
   "name": "python3"
  },
  "language_info": {
   "codemirror_mode": {
    "name": "ipython",
    "version": 3
   },
   "file_extension": ".py",
   "mimetype": "text/x-python",
   "name": "python",
   "nbconvert_exporter": "python",
   "pygments_lexer": "ipython3",
   "version": "3.11.5"
  }
 },
 "nbformat": 4,
 "nbformat_minor": 5
}
